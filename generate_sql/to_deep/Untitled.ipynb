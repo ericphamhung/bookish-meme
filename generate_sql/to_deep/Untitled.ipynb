{
 "cells": [
  {
   "cell_type": "code",
   "execution_count": 1,
   "metadata": {},
   "outputs": [],
   "source": [
    "import spacy\n",
    "import json\n",
    "import pandas as pd\n",
    "import re\n",
    "from runners import *"
   ]
  },
  {
   "cell_type": "code",
   "execution_count": 2,
   "metadata": {},
   "outputs": [],
   "source": [
    "# num = 0\n",
    "# data_train, data_test, model = run_get(num)\n",
    "# print(data_train.__getitem__(0))\n",
    "# assert False\n",
    "# for num in [0]: #range(len(dnames)):\n",
    "num = 0\n",
    "num_epochs = 100\n",
    "\n",
    "data_train, data_test, model = run_get(num)\n",
    " "
   ]
  },
  {
   "cell_type": "code",
   "execution_count": 28,
   "metadata": {},
   "outputs": [],
   "source": [
    "trl1 = DataLoader(data_train, batch_size=1, shuffle=False)\n",
    "trl2 = DataLoader(data_train, batch_size=10, shuffle=False)\n"
   ]
  },
  {
   "cell_type": "code",
   "execution_count": 30,
   "metadata": {},
   "outputs": [
    {
     "name": "stdout",
     "output_type": "stream",
     "text": [
      "3\n",
      "['[[colname_pattern]]', ',', '[[colname_pattern]]']\n",
      "1\n",
      "['[[colname_pattern]]']\n",
      "1\n",
      "['[[colname_pattern]]']\n",
      "1\n",
      "['[[colname_pattern]]']\n",
      "4\n",
      "['avg', '(', '[[colname_pattern]]', ')']\n",
      "1\n",
      "['[[colname_pattern]]']\n",
      "3\n",
      "['[[colname_pattern]]', ',', '[[colname_pattern]]']\n",
      "1\n",
      "['[[colname_pattern]]']\n",
      "5\n",
      "['count', '(', 'DISTINCT', '[[colname_pattern]]', ')']\n",
      "5\n",
      "['[[colname_pattern]]', ',', '[[colname_pattern]]', ',', '[[colname_pattern]]']\n"
     ]
    }
   ],
   "source": [
    "lst = []\n",
    "for i, batch in enumerate(trl1):\n",
    "    x = batch['x'].to(device)\n",
    "    table = batch['table']\n",
    "    db = batch['db']\n",
    "    ypred = model.forward(x).detach().cpu().numpy()\n",
    "    lst.append(ypred)\n",
    "    if i >= 9:\n",
    "        break"
   ]
  },
  {
   "cell_type": "code",
   "execution_count": 31,
   "metadata": {},
   "outputs": [
    {
     "name": "stdout",
     "output_type": "stream",
     "text": [
      "3\n",
      "['[[colname_pattern]]', ',', '[[colname_pattern]]']\n",
      "1\n",
      "['[[colname_pattern]]']\n",
      "1\n",
      "['[[colname_pattern]]']\n",
      "1\n",
      "['[[colname_pattern]]']\n",
      "4\n",
      "['avg', '(', '[[colname_pattern]]', ')']\n",
      "1\n",
      "['[[colname_pattern]]']\n",
      "3\n",
      "['[[colname_pattern]]', ',', '[[colname_pattern]]']\n",
      "1\n",
      "['[[colname_pattern]]']\n",
      "5\n",
      "['count', '(', 'DISTINCT', '[[colname_pattern]]', ')']\n",
      "5\n",
      "['[[colname_pattern]]', ',', '[[colname_pattern]]', ',', '[[colname_pattern]]']\n"
     ]
    }
   ],
   "source": [
    "for i, batch in enumerate(trl2):\n",
    "    x = batch['x'].to(device)\n",
    "    table = batch['table']\n",
    "    db = batch['db']\n",
    "    ypred = model.forward(x).detach().cpu().numpy()\n",
    "    break"
   ]
  },
  {
   "cell_type": "code",
   "execution_count": 34,
   "metadata": {},
   "outputs": [],
   "source": [
    "def apply_tmin(xarr, yarr):\n",
    "    arr = []\n",
    "    for colx, coly in zip(xarr, yarr):\n",
    "        for x, y in zip(colx, coly):\n",
    "            arr.append(tmin(x, y))\n",
    "    return np.max(np.abs(arr))\n",
    "def tmin(x, y):\n",
    "    if x == 0 or y == 0:\n",
    "        return (x-y)\n",
    "    else:\n",
    "        return (x-y)"
   ]
  },
  {
   "cell_type": "code",
   "execution_count": 35,
   "metadata": {},
   "outputs": [
    {
     "name": "stdout",
     "output_type": "stream",
     "text": [
      "7.450581e-09\n",
      "9.3340874e-05\n",
      "4.3958426e-05\n",
      "3.2514334e-05\n",
      "4.2408705e-05\n",
      "4.6908855e-05\n",
      "6.0155988e-05\n",
      "4.082173e-05\n",
      "5.9388578e-05\n",
      "3.1184405e-05\n"
     ]
    }
   ],
   "source": [
    "for i, l in enumerate(lst):\n",
    "    print(apply_tmin(lst[i][0], ypred[i, :, :]))"
   ]
  },
  {
   "cell_type": "code",
   "execution_count": null,
   "metadata": {},
   "outputs": [],
   "source": []
  },
  {
   "cell_type": "code",
   "execution_count": 3,
   "metadata": {},
   "outputs": [
    {
     "name": "stdout",
     "output_type": "stream",
     "text": [
      "99 of 294, average loss = 3.6400792479515074\n",
      "199 of 294, average loss = 3.6400517868995665\n",
      "Epoch 0, training:\n",
      "Losses:\n",
      "\n",
      " min:3.6298868656158447,\n",
      " max:3.6408517360687256\n",
      " mean:0.36363212081229945:\n"
     ]
    },
    {
     "ename": "RuntimeError",
     "evalue": "element 0 of tensors does not require grad and does not have a grad_fn",
     "output_type": "error",
     "traceback": [
      "\u001b[0;31m---------------------------------------------------------------------------\u001b[0m",
      "\u001b[0;31mRuntimeError\u001b[0m                              Traceback (most recent call last)",
      "\u001b[0;32m<ipython-input-3-c97a6b3be46c>\u001b[0m in \u001b[0;36m<module>\u001b[0;34m\u001b[0m\n\u001b[1;32m     30\u001b[0m     \u001b[0mprint\u001b[0m\u001b[0;34m(\u001b[0m\u001b[0;34m' min:{},\\n max:{}\\n mean:{}:'\u001b[0m\u001b[0;34m.\u001b[0m\u001b[0mformat\u001b[0m\u001b[0;34m(\u001b[0m\u001b[0mtrmin\u001b[0m\u001b[0;34m,\u001b[0m \u001b[0mtrmax\u001b[0m\u001b[0;34m,\u001b[0m \u001b[0mtrmean\u001b[0m\u001b[0;34m)\u001b[0m\u001b[0;34m)\u001b[0m\u001b[0;34m\u001b[0m\u001b[0;34m\u001b[0m\u001b[0m\n\u001b[1;32m     31\u001b[0m     \u001b[0;32mif\u001b[0m \u001b[0mi\u001b[0m \u001b[0;34m%\u001b[0m \u001b[0mtest_every\u001b[0m \u001b[0;34m==\u001b[0m \u001b[0mtest_every\u001b[0m\u001b[0;34m-\u001b[0m\u001b[0;36m1\u001b[0m\u001b[0;34m:\u001b[0m\u001b[0;34m\u001b[0m\u001b[0;34m\u001b[0m\u001b[0m\n\u001b[0;32m---> 32\u001b[0;31m         \u001b[0mmodel\u001b[0m\u001b[0;34m,\u001b[0m \u001b[0moptimizer\u001b[0m\u001b[0;34m,\u001b[0m \u001b[0mcriterion\u001b[0m\u001b[0;34m,\u001b[0m \u001b[0mtemax\u001b[0m\u001b[0;34m,\u001b[0m \u001b[0mtemin\u001b[0m\u001b[0;34m,\u001b[0m \u001b[0mtemean\u001b[0m \u001b[0;34m=\u001b[0m \u001b[0mtest\u001b[0m\u001b[0;34m(\u001b[0m\u001b[0mmodel\u001b[0m\u001b[0;34m,\u001b[0m \u001b[0mtel\u001b[0m\u001b[0;34m,\u001b[0m \u001b[0moptimizer\u001b[0m\u001b[0;34m,\u001b[0m \u001b[0mcriterion\u001b[0m\u001b[0;34m,\u001b[0m \u001b[0mprintevery\u001b[0m\u001b[0;34m,\u001b[0m \u001b[0mprepy\u001b[0m\u001b[0;34m)\u001b[0m\u001b[0;34m\u001b[0m\u001b[0;34m\u001b[0m\u001b[0m\n\u001b[0m\u001b[1;32m     33\u001b[0m         \u001b[0mprint\u001b[0m\u001b[0;34m(\u001b[0m\u001b[0;34m'Epoch {}, testing:\\nLosses:\\n'\u001b[0m\u001b[0;34m.\u001b[0m\u001b[0mformat\u001b[0m\u001b[0;34m(\u001b[0m\u001b[0mi\u001b[0m\u001b[0;34m)\u001b[0m\u001b[0;34m)\u001b[0m\u001b[0;34m\u001b[0m\u001b[0;34m\u001b[0m\u001b[0m\n\u001b[1;32m     34\u001b[0m         \u001b[0mprint\u001b[0m\u001b[0;34m(\u001b[0m\u001b[0;34m' min:{},\\n max:{}\\n mean:{}:'\u001b[0m\u001b[0;34m.\u001b[0m\u001b[0mformat\u001b[0m\u001b[0;34m(\u001b[0m\u001b[0mtemin\u001b[0m\u001b[0;34m,\u001b[0m \u001b[0mtemax\u001b[0m\u001b[0;34m,\u001b[0m \u001b[0mtemean\u001b[0m\u001b[0;34m)\u001b[0m\u001b[0;34m)\u001b[0m\u001b[0;34m\u001b[0m\u001b[0;34m\u001b[0m\u001b[0m\n",
      "\u001b[0;32m~/to_deep/runners.py\u001b[0m in \u001b[0;36mtest\u001b[0;34m(model, dl, optimizer, criterion, printevery, prepy)\u001b[0m\n\u001b[1;32m    344\u001b[0m                 \u001b[0mypred\u001b[0m \u001b[0;34m=\u001b[0m \u001b[0mtorch\u001b[0m\u001b[0;34m.\u001b[0m\u001b[0mt\u001b[0m\u001b[0;34m(\u001b[0m\u001b[0mypred\u001b[0m\u001b[0;34m)\u001b[0m\u001b[0;34m\u001b[0m\u001b[0;34m\u001b[0m\u001b[0m\n\u001b[1;32m    345\u001b[0m             \u001b[0mloss\u001b[0m \u001b[0;34m=\u001b[0m \u001b[0mcriterion\u001b[0m\u001b[0;34m(\u001b[0m\u001b[0mypred\u001b[0m\u001b[0;34m,\u001b[0m \u001b[0my\u001b[0m\u001b[0;34m)\u001b[0m\u001b[0;34m\u001b[0m\u001b[0;34m\u001b[0m\u001b[0m\n\u001b[0;32m--> 346\u001b[0;31m             \u001b[0mloss\u001b[0m\u001b[0;34m.\u001b[0m\u001b[0mbackward\u001b[0m\u001b[0;34m(\u001b[0m\u001b[0;34m)\u001b[0m\u001b[0;34m\u001b[0m\u001b[0;34m\u001b[0m\u001b[0m\n\u001b[0m\u001b[1;32m    347\u001b[0m             \u001b[0mlit\u001b[0m \u001b[0;34m=\u001b[0m \u001b[0mloss\u001b[0m\u001b[0;34m.\u001b[0m\u001b[0mitem\u001b[0m\u001b[0;34m(\u001b[0m\u001b[0;34m)\u001b[0m\u001b[0;34m\u001b[0m\u001b[0;34m\u001b[0m\u001b[0m\n\u001b[1;32m    348\u001b[0m             \u001b[0mrunning_loss\u001b[0m \u001b[0;34m+=\u001b[0m \u001b[0mlit\u001b[0m\u001b[0;34m\u001b[0m\u001b[0;34m\u001b[0m\u001b[0m\n",
      "\u001b[0;32m~/anaconda3/lib/python3.7/site-packages/torch/tensor.py\u001b[0m in \u001b[0;36mbackward\u001b[0;34m(self, gradient, retain_graph, create_graph)\u001b[0m\n\u001b[1;32m    105\u001b[0m                 \u001b[0mproducts\u001b[0m\u001b[0;34m.\u001b[0m \u001b[0mDefaults\u001b[0m \u001b[0mto\u001b[0m\u001b[0;31m \u001b[0m\u001b[0;31m`\u001b[0m\u001b[0;31m`\u001b[0m\u001b[0;32mFalse\u001b[0m\u001b[0;31m`\u001b[0m\u001b[0;31m`\u001b[0m\u001b[0;34m.\u001b[0m\u001b[0;34m\u001b[0m\u001b[0;34m\u001b[0m\u001b[0m\n\u001b[1;32m    106\u001b[0m         \"\"\"\n\u001b[0;32m--> 107\u001b[0;31m         \u001b[0mtorch\u001b[0m\u001b[0;34m.\u001b[0m\u001b[0mautograd\u001b[0m\u001b[0;34m.\u001b[0m\u001b[0mbackward\u001b[0m\u001b[0;34m(\u001b[0m\u001b[0mself\u001b[0m\u001b[0;34m,\u001b[0m \u001b[0mgradient\u001b[0m\u001b[0;34m,\u001b[0m \u001b[0mretain_graph\u001b[0m\u001b[0;34m,\u001b[0m \u001b[0mcreate_graph\u001b[0m\u001b[0;34m)\u001b[0m\u001b[0;34m\u001b[0m\u001b[0;34m\u001b[0m\u001b[0m\n\u001b[0m\u001b[1;32m    108\u001b[0m \u001b[0;34m\u001b[0m\u001b[0m\n\u001b[1;32m    109\u001b[0m     \u001b[0;32mdef\u001b[0m \u001b[0mregister_hook\u001b[0m\u001b[0;34m(\u001b[0m\u001b[0mself\u001b[0m\u001b[0;34m,\u001b[0m \u001b[0mhook\u001b[0m\u001b[0;34m)\u001b[0m\u001b[0;34m:\u001b[0m\u001b[0;34m\u001b[0m\u001b[0;34m\u001b[0m\u001b[0m\n",
      "\u001b[0;32m~/anaconda3/lib/python3.7/site-packages/torch/autograd/__init__.py\u001b[0m in \u001b[0;36mbackward\u001b[0;34m(tensors, grad_tensors, retain_graph, create_graph, grad_variables)\u001b[0m\n\u001b[1;32m     91\u001b[0m     Variable._execution_engine.run_backward(\n\u001b[1;32m     92\u001b[0m         \u001b[0mtensors\u001b[0m\u001b[0;34m,\u001b[0m \u001b[0mgrad_tensors\u001b[0m\u001b[0;34m,\u001b[0m \u001b[0mretain_graph\u001b[0m\u001b[0;34m,\u001b[0m \u001b[0mcreate_graph\u001b[0m\u001b[0;34m,\u001b[0m\u001b[0;34m\u001b[0m\u001b[0;34m\u001b[0m\u001b[0m\n\u001b[0;32m---> 93\u001b[0;31m         allow_unreachable=True)  # allow_unreachable flag\n\u001b[0m\u001b[1;32m     94\u001b[0m \u001b[0;34m\u001b[0m\u001b[0m\n\u001b[1;32m     95\u001b[0m \u001b[0;34m\u001b[0m\u001b[0m\n",
      "\u001b[0;31mRuntimeError\u001b[0m: element 0 of tensors does not require grad and does not have a grad_fn"
     ]
    }
   ],
   "source": [
    "\n",
    "best_since = 0\n",
    "best = 1e6*1.0\n",
    "best_since_limit = 10\n",
    "test_every = 1\n",
    "trl = DataLoader(data_train, batch_size=batch_size, shuffle=True)\n",
    "tel = DataLoader(data_test, batch_size=batch_size, shuffle=True)\n",
    "\n",
    "scheduler = MultiStepLR(optimizer, milestones=[30,num_epochs], gamma=0.1)\n",
    "for i in range(num_epochs):\n",
    "    model, optimizer, criterion, trmax, trmin, trmean = train(model, trl, optimizer, criterion, printevery, prepy)\n",
    "    print('Epoch {}, training:\\nLosses:\\n'.format(i))\n",
    "    print(' min:{},\\n max:{}\\n mean:{}:'.format(trmin, trmax, trmean))\n",
    "    if i % test_every == test_every-1:\n",
    "        model, optimizer, criterion, temax, temin, temean = test(model, tel, optimizer, criterion, printevery, prepy)\n",
    "        print('Epoch {}, testing:\\nLosses:\\n'.format(i))\n",
    "        print(' min:{},\\n max:{}\\n mean:{}:'.format(temin, temax, temean))\n",
    "        if temean < best:\n",
    "            best = temean\n",
    "            best_since = 0\n",
    "            print('Best model so far.  Saving')\n",
    "            bname = 'best/{}_best_{:7.4e}_test_loss'.format(dnames[num], temean)\n",
    "            model.save(bname)\n",
    "            print('Model saved')\n",
    "        else:\n",
    "            best_since += 1\n",
    "        if best_since >= best_since_limit:\n",
    "            print(\"Haven't improved mean since {}, gave {}.  Stopping\".format(i-best_since_limit, best))\n",
    "#             model.load(bname)\n",
    "#             print(final_test(model, tel, optimizer, criterion, printevery))\n",
    "            break\n",
    "\n",
    "\n",
    "    scheduler.step()\n",
    "\n"
   ]
  },
  {
   "cell_type": "code",
   "execution_count": null,
   "metadata": {},
   "outputs": [],
   "source": []
  }
 ],
 "metadata": {
  "kernelspec": {
   "display_name": "Python 3",
   "language": "python",
   "name": "python3"
  },
  "language_info": {
   "codemirror_mode": {
    "name": "ipython",
    "version": 3
   },
   "file_extension": ".py",
   "mimetype": "text/x-python",
   "name": "python",
   "nbconvert_exporter": "python",
   "pygments_lexer": "ipython3",
   "version": "3.7.3"
  }
 },
 "nbformat": 4,
 "nbformat_minor": 2
}
